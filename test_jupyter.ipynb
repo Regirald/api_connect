{
 "cells": [
  {
   "cell_type": "code",
   "execution_count": 9,
   "id": "b66ca206",
   "metadata": {},
   "outputs": [
    {
     "name": "stdout",
     "output_type": "stream",
     "text": [
      "['Optibee', 'C.N.', 'D.P.', 'R.G.']\n"
     ]
    }
   ],
   "source": [
    "import pandas as pd\n",
    "import matplotlib.pyplot as plt\n",
    "import datetime\n",
    "from Main_abeille import P, D\n",
    "\n",
    "document = pd.ExcelFile(\"capt_donnees_random.xlsx\")\n",
    "\n",
    "ma_feuille = document.sheet_names\n",
    "print((document.sheet_names))\n",
    "\n",
    "data = pd.read_excel(document, sheet_name='C.N.')\n",
    "n, m = data.shape\n",
    "\n",
    "\n",
    "def annomalie_poid(P):\n",
    "    for i in range(len(P) - 1):\n",
    "        if abs(P[i][0] - P[i + 1][0]) > 1:\n",
    "            # P[i][1] = P[i + 1][0] - P[i][0]\n",
    "            P[i][1] =1\n",
    "            P[i][0] = P[i-1][0]\n",
    "\n",
    "\n",
    "def nb_buttineuses(data, n):\n",
    "    nb_j = 12 * n // (24 * 60)\n",
    "\n",
    "\n",
    "\n",
    "    heure = list(map(int, data['Date'][0].split(' ')[0].split('-') + data['Date'][0].split(' ')[1].split(':')))\n",
    "    t0 = datetime.datetime(heure[0], heure[1], heure[2], 0, 0, 0)\n",
    "    heure1 = list(map(int, data['Date'][n-1].split(' ')[0].split('-') + data['Date'][n-1].split(' ')[1].split(':')))\n",
    "    t1 = datetime.datetime(heure1[0], heure1[1], heure1[2], 0, 0, 0)\n",
    "    nb_j = datetime.timedelta(days=(t1 - t0).days)\n",
    "    nb_j=nb_j.days\n",
    "#     print(\"nb jour=\", nb_j)\n",
    "    Lj = [[] for i in range(nb_j + 1)]\n",
    "    nj_act = 0\n",
    "\n",
    "    Lj[0].append([0, t0])\n",
    "    for i in range(n):\n",
    "\n",
    "        # heure=data['Date'][i].split(' ')\n",
    "        heure = list(map(int, data['Date'][i].split(' ')[0].split('-') + data['Date'][i].split(' ')[1].split(':')))\n",
    "        time = datetime.datetime(heure[0], heure[1], heure[2], heure[3], heure[4], heure[5])\n",
    "        # tdelta=datetime.timedelta(days=time.day-t0.day)\n",
    "        if Lj[nj_act] != [] and Lj[nj_act][0][1].day != time.day:\n",
    "            nj_act += 1\n",
    "            Lj[nj_act].append([i, time])\n",
    "#             print(nj_act)\n",
    "\n",
    "        else:\n",
    "            Lj[nj_act].append([i, time])\n",
    "\n",
    "    D = []\n",
    "    dP = []\n",
    "    moy = []\n",
    "    miel_j = []\n",
    "    miel_tot = []\n",
    "    # ventil = []\n",
    "    # tracey=[]\n",
    "    # tracex = []\n",
    "    Lj.pop()\n",
    "    for y in Lj:\n",
    "        a = False\n",
    "        for x in y:\n",
    "            if P[x[0]][1] != 0:\n",
    "                a = True\n",
    "        if a:\n",
    "            dP.append(dP[-1])\n",
    "            D.append(y[0][1])\n",
    "            miel_j.append(miel_j[-1])\n",
    "            miel_tot.append(miel_tot[-1])\n",
    "            # ventil.append(ventil[-1])\n",
    "        else:\n",
    "            min = 1000\n",
    "\n",
    "            ibis=0\n",
    "            for x in y:\n",
    "                i,date=x\n",
    "\n",
    "                if date.hour >6 and date.hour<9 and min > data['Poids'][y[ibis][0]]:\n",
    "                    min = data['Poids'][y[ibis][0]]\n",
    "                if date.hour ==7:\n",
    "                    h7=data['Poids'][y[ibis][0]]\n",
    "                ibis+=1\n",
    "\n",
    "#             print(y[1],min)\n",
    "\n",
    "\n",
    "\n",
    "            dP.append((h7 - min) / (80 * 10 ** -6) / 500)\n",
    "            miel_j.append((data['Poids'][y[-1][0]]-data['Poids'][y[0][0]]))\n",
    "            # ventil.append((max_n[0] - data['Poids'][y[6 * 60 // 12][0]])*10)\n",
    "            if miel_tot == []:\n",
    "                miel_tot.append(miel_j[-1])\n",
    "            else:\n",
    "                miel_tot.append(miel_tot[-1] + miel_j[-1])\n",
    "            D.append(y[0][1])\n",
    "\n",
    "        if len(dP) <= 2:\n",
    "            moy.append(sum(x for x in dP) / (len(dP)))\n",
    "        else:\n",
    "            moy.append(sum((dP[-1], dP[-2], dP[-3])) / 3)\n",
    "    moy.pop(0)\n",
    "    moy.append((dP[-1] + dP[-2]) / 2)\n",
    "    return D, moy, miel_j, miel_tot\n",
    "\n",
    "if __name__== \"__main__\":\n",
    "\n",
    "    annomalie_poid(P)\n",
    "    d, moy, miel_j, miel_tot = nb_buttineuses(data, n)\n",
    "\n"
   ]
  },
  {
   "cell_type": "code",
   "execution_count": 10,
   "id": "7765a7d1",
   "metadata": {},
   "outputs": [
    {
     "data": {
      "image/png": "[encoded data removed]",
      "text/plain": [
       "<Figure size 432x288 with 1 Axes>"
      ]
     },
     "metadata": {
      "needs_background": "light"
     },
     "output_type": "display_data"
    }
   ],
   "source": [
    "plt.plot(D, P)\n",
    "plt.plot(d, moy)\n",
    "plt.plot(d, miel_j)\n",
    "plt.plot(d, miel_tot)\n",
    "# plt.plot(d, ventil)\n",
    "# plt.plot(tracex,tracey)\n",
    "plt.show()"
   ]
  },
  {
   "cell_type": "code",
   "execution_count": null,
   "id": "66b1ce74",
   "metadata": {},
   "outputs": [],
   "source": []
  }
 ],
 "metadata": {
  "kernelspec": {
   "display_name": "Python 3 (ipykernel)",
   "language": "python",
   "name": "python3"
  },
  "language_info": {
   "codemirror_mode": {
    "name": "ipython",
    "version": 3
   },
   "file_extension": ".py",
   "mimetype": "text/x-python",
   "name": "python",
   "nbconvert_exporter": "python",
   "pygments_lexer": "ipython3",
   "version": "3.9.12"
  }
 },
 "nbformat": 4,
 "nbformat_minor": 5
}
